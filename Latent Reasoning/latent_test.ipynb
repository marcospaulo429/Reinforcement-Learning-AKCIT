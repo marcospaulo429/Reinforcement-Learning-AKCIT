{
 "cells": [
  {
   "cell_type": "code",
   "execution_count": 3,
   "metadata": {},
   "outputs": [
    {
     "name": "stderr",
     "output_type": "stream",
     "text": [
      "/opt/anaconda3/envs/deepseek_test/lib/python3.10/site-packages/tqdm/auto.py:21: TqdmWarning: IProgress not found. Please update jupyter and ipywidgets. See https://ipywidgets.readthedocs.io/en/stable/user_install.html\n",
      "  from .autonotebook import tqdm as notebook_tqdm\n"
     ]
    }
   ],
   "source": [
    "import matplotlib.pyplot as plt\n",
    "import seaborn as sns\n",
    "import torch\n",
    "import transformers\n",
    "from transformers.models.qwen2.modeling_qwen2 import Qwen2ForCausalLM\n",
    "\n",
    "model_name = \"deepseek-ai/DeepSeek-R1-Distill-Qwen-1.5B\""
   ]
  },
  {
   "cell_type": "markdown",
   "metadata": {},
   "source": [
    "## Preparação"
   ]
  },
  {
   "cell_type": "markdown",
   "metadata": {},
   "source": [
    "Seleciona um modelo que já utiliza tokens de pensamento"
   ]
  },
  {
   "cell_type": "code",
   "execution_count": 4,
   "metadata": {},
   "outputs": [],
   "source": [
    "tokenizer = transformers.AutoTokenizer.from_pretrained(model_name)\n",
    "tokenizer.pad_token = tokenizer.eos_token"
   ]
  },
  {
   "cell_type": "code",
   "execution_count": 5,
   "metadata": {},
   "outputs": [
    {
     "name": "stderr",
     "output_type": "stream",
     "text": [
      "Sliding Window Attention is enabled but not implemented for `sdpa`; unexpected results may be encountered.\n",
      "Some parameters are on the meta device because they were offloaded to the disk.\n"
     ]
    },
    {
     "data": {
      "text/plain": [
       "Qwen2ForCausalLM(\n",
       "  (model): Qwen2Model(\n",
       "    (embed_tokens): Embedding(151936, 1536)\n",
       "    (layers): ModuleList(\n",
       "      (0-27): 28 x Qwen2DecoderLayer(\n",
       "        (self_attn): Qwen2Attention(\n",
       "          (q_proj): Linear(in_features=1536, out_features=1536, bias=True)\n",
       "          (k_proj): Linear(in_features=1536, out_features=256, bias=True)\n",
       "          (v_proj): Linear(in_features=1536, out_features=256, bias=True)\n",
       "          (o_proj): Linear(in_features=1536, out_features=1536, bias=False)\n",
       "        )\n",
       "        (mlp): Qwen2MLP(\n",
       "          (gate_proj): Linear(in_features=1536, out_features=8960, bias=False)\n",
       "          (up_proj): Linear(in_features=1536, out_features=8960, bias=False)\n",
       "          (down_proj): Linear(in_features=8960, out_features=1536, bias=False)\n",
       "          (act_fn): SiLU()\n",
       "        )\n",
       "        (input_layernorm): Qwen2RMSNorm((1536,), eps=1e-06)\n",
       "        (post_attention_layernorm): Qwen2RMSNorm((1536,), eps=1e-06)\n",
       "      )\n",
       "    )\n",
       "    (norm): Qwen2RMSNorm((1536,), eps=1e-06)\n",
       "    (rotary_emb): Qwen2RotaryEmbedding()\n",
       "  )\n",
       "  (lm_head): Linear(in_features=1536, out_features=151936, bias=False)\n",
       ")"
      ]
     },
     "execution_count": 5,
     "metadata": {},
     "output_type": "execute_result"
    }
   ],
   "source": [
    "model = transformers.AutoModelForCausalLM.from_pretrained(\n",
    "    model_name,\n",
    "    torch_dtype=torch.float16,\n",
    "    device_map=\"auto\",\n",
    "    trust_remote_code=True\n",
    ")\n",
    "model"
   ]
  },
  {
   "cell_type": "markdown",
   "metadata": {},
   "source": [
    "Testa o modelo com um problema simples"
   ]
  },
  {
   "cell_type": "code",
   "execution_count": null,
   "metadata": {},
   "outputs": [
    {
     "name": "stdout",
     "output_type": "stream",
     "text": [
      "\n",
      "Tokenized prompt:\n",
      "<｜begin▁of▁sentence｜><｜begin▁of▁sentence｜><｜User｜>What is 15 multiplied by 7?<｜Assistant｜><think>\n",
      "\n"
     ]
    }
   ],
   "source": [
    "messages = [\n",
    "    {\"role\": \"user\", \"content\": \"What is 15 multiplied by 7?\"}\n",
    "]\n",
    "prompt = tokenizer.apply_chat_template(messages, add_generation_prompt=True, tokenize=False)\n",
    "inputs = tokenizer(prompt, return_tensors=\"pt\")\n",
    "decoded_tokens = tokenizer.decode(inputs.input_ids[0])\n",
    "print(\"\\nTokenized prompt:\")\n",
    "print(decoded_tokens)"
   ]
  },
  {
   "cell_type": "code",
   "execution_count": 5,
   "metadata": {},
   "outputs": [
    {
     "name": "stderr",
     "output_type": "stream",
     "text": [
      "The attention mask is not set and cannot be inferred from input because pad token is same as eos token. As a consequence, you may observe unexpected behavior. Please pass your input's `attention_mask` to obtain reliable results.\n"
     ]
    },
    {
     "name": "stderr",
     "output_type": "stream",
     "text": [
      "From v4.47 onwards, when a model cache is to be returned, `generate` will return a `Cache` instance instead by default (as opposed to the legacy tuple of tuples format). If you want to keep returning the legacy format, please set `return_legacy_cache=True`.\n"
     ]
    },
    {
     "name": "stdout",
     "output_type": "stream",
     "text": [
      "<｜User｜>What is 15 multiplied by 7?<｜Assistant｜><think>\n",
      "First, I need to calculate 15 multiplied by 7.\n",
      "\n",
      "To do this, I can break down the multiplication into simpler parts. I'll start by multiplying 10 by 7, which gives me 70.\n",
      "\n",
      "Next, I'll multiply 5 by 7, resulting in 35.\n",
      "\n",
      "Finally, I'll add the two results together: 70 plus 35 equals 105.\n",
      "\n",
      "Therefore, 15 multiplied by 7 equals 105.\n",
      "</think>\n",
      "\n",
      "**Solution:**\n",
      "\n",
      "To find the product of 15 and 7, follow these simple steps:\n",
      "\n",
      "1. **Multiply 10 by 7:**\n",
      "   \n",
      "   \\[\n",
      "   10 \\times 7 = 70\n",
      "   \\]\n",
      "\n",
      "2. **Multiply 5 by 7:**\n",
      "   \n",
      "   \\[\n",
      "   5 \\times 7 = 35\n",
      "   \\]\n",
      "\n",
      "3. **Add the two results together:**\n",
      "   \n",
      "   \\[\n",
      "   70 + 35 = 105\n",
      "   \\]\n",
      "\n",
      "Therefore, \n",
      "\n",
      "\\[\n",
      "15 \\times 7 = \\boxed{105}\n",
      "\\]\n"
     ]
    }
   ],
   "source": [
    "# Generate the response\n",
    "outputs = model.generate(\n",
    "    inputs.input_ids.to(model.device),\n",
    "    max_length=1000,\n",
    "    temperature=0.6,\n",
    "    do_sample=True,\n",
    "    pad_token_id=tokenizer.eos_token_id,\n",
    "    return_dict_in_generate=True,\n",
    "    output_hidden_states=True,\n",
    ")\n",
    "\n",
    "# Decode the generated tokens\n",
    "decoded_output = tokenizer.decode(outputs.sequences[0], skip_special_tokens=True)\n",
    "print(decoded_output)"
   ]
  },
  {
   "cell_type": "markdown",
   "metadata": {},
   "source": [
    "## Testes com o espaço de representação do modelo"
   ]
  },
  {
   "cell_type": "markdown",
   "metadata": {},
   "source": [
    "Testes decodificando embeddings sem passar pelo corpo do modelo."
   ]
  },
  {
   "cell_type": "code",
   "execution_count": 58,
   "metadata": {},
   "outputs": [],
   "source": [
    "def print_top_next_tokens(logits, top_k=5, bottom_k=5):\n",
    "    # Calculate probabilities over full vocabulary\n",
    "    probs = torch.softmax(logits[0][-1], dim=-1)\n",
    "    \n",
    "    # Get the top 10 most likely tokens and bottom 5 least likely tokens\n",
    "    top_probs, top_indices = probs.topk(k=top_k)\n",
    "    bottom_probs, bottom_indices = probs.topk(k=bottom_k, largest=False)\n",
    "    \n",
    "    top_logits = logits[0][-1][top_indices]\n",
    "    bottom_logits = logits[0][-1][bottom_indices]\n",
    "\n",
    "    # Decode back to text\n",
    "    top_tokens = [tokenizer.decode(idx) for idx in top_indices]\n",
    "    bottom_tokens = [tokenizer.decode(idx) for idx in bottom_indices]\n",
    "\n",
    "    print(f\"Top {top_k} most likely tokens when decoding embedding):\")\n",
    "    for i, (token, prob, logit) in enumerate(zip(top_tokens, top_probs, top_logits), 1):\n",
    "        print(f\"{i}. {token} (prob: {prob.item():.3f}, logit: {logit.item():.3f})\")\n",
    "        \n",
    "    print(f\"\\nBottom {bottom_k} least likely tokens:\")\n",
    "    for i, (token, prob, logit) in enumerate(zip(bottom_tokens, bottom_probs, bottom_logits), 1):\n",
    "        print(f\"{i}. {token} (prob: {prob.item():.3f}, logit: {logit.item():.3f})\")"
   ]
  },
  {
   "cell_type": "markdown",
   "metadata": {},
   "source": [
    "Aritmética no espaço de embeddings"
   ]
  },
  {
   "cell_type": "code",
   "execution_count": 59,
   "metadata": {},
   "outputs": [
    {
     "name": "stdout",
     "output_type": "stream",
     "text": [
      "Top 5 most likely tokens when decoding embedding):\n",
      "1. king (prob: 0.000, logit: 2.207)\n",
      "2. woman (prob: 0.000, logit: 1.554)\n",
      "3. ,…\n",
      "\n",
      " (prob: 0.000, logit: 1.253)\n",
      "4. .${ (prob: 0.000, logit: 1.254)\n",
      "5. ?): (prob: 0.000, logit: 1.253)\n",
      "\n",
      "Bottom 5 least likely tokens:\n",
      "1.   (prob: 0.000, logit: -1.043)\n",
      "2. man (prob: 0.000, logit: -0.969)\n",
      "3. , (prob: 0.000, logit: -0.977)\n",
      "4.  ( (prob: 0.000, logit: -0.924)\n",
      "5. - (prob: 0.000, logit: -0.817)\n"
     ]
    }
   ],
   "source": [
    "# Get the token ID\n",
    "e1 = model.get_input_embeddings().weight[tokenizer.encode(\"king\", add_special_tokens=False)[0]]\n",
    "e2 = model.get_input_embeddings().weight[tokenizer.encode(\"man\", add_special_tokens=False)[0]]\n",
    "e3 = model.get_input_embeddings().weight[tokenizer.encode(\"woman\", add_special_tokens=False)[0]]\n",
    "logits = model.lm_head(((e1 - e2) + e3).reshape(1, 1, -1))  # deveria ser \"queen\"?\n",
    "print_top_next_tokens(logits)"
   ]
  },
  {
   "cell_type": "markdown",
   "metadata": {},
   "source": [
    "Embeddings da última camada correspondem aos embeddings da primeira camada?"
   ]
  },
  {
   "cell_type": "code",
   "execution_count": 60,
   "metadata": {},
   "outputs": [
    {
     "name": "stdout",
     "output_type": "stream",
     "text": [
      "Top 5 most likely tokens when decoding embedding):\n",
      "1. king (prob: 0.000, logit: 1.930)\n",
      "2. King (prob: 0.000, logit: 0.729)\n",
      "3.  king (prob: 0.000, logit: 0.686)\n",
      "4. kers (prob: 0.000, logit: 0.679)\n",
      "5. bidden (prob: 0.000, logit: 0.617)\n",
      "\n",
      "Bottom 5 least likely tokens:\n",
      "1. , (prob: 0.000, logit: -0.453)\n",
      "2.   (prob: 0.000, logit: -0.456)\n",
      "3.  ( (prob: 0.000, logit: -0.432)\n",
      "4. - (prob: 0.000, logit: -0.357)\n",
      "5. . (prob: 0.000, logit: -0.345)\n"
     ]
    }
   ],
   "source": [
    "# Get the token ID\n",
    "embedding = model.get_input_embeddings().weight[tokenizer.encode(\"king\", add_special_tokens=False)[0]]\n",
    "logits = model.lm_head(embedding.reshape(1, 1, -1))\n",
    "print_top_next_tokens(logits)"
   ]
  },
  {
   "cell_type": "code",
   "execution_count": 61,
   "metadata": {},
   "outputs": [
    {
     "name": "stdout",
     "output_type": "stream",
     "text": [
      "Top 5 most likely tokens when decoding embedding):\n",
      "1. \".. (prob: 0.000, logit: 0.864)\n",
      "2. ,…\n",
      "\n",
      " (prob: 0.000, logit: 0.830)\n",
      "3. )?. (prob: 0.000, logit: 0.832)\n",
      "4. ?): (prob: 0.000, logit: 0.830)\n",
      "5. ?,\n",
      " (prob: 0.000, logit: 0.819)\n",
      "\n",
      "Bottom 5 least likely tokens:\n",
      "1.   (prob: 0.000, logit: -0.786)\n",
      "2.  ( (prob: 0.000, logit: -0.692)\n",
      "3. , (prob: 0.000, logit: -0.700)\n",
      "4. . (prob: 0.000, logit: -0.585)\n",
      "5. - (prob: 0.000, logit: -0.552)\n"
     ]
    }
   ],
   "source": [
    "# Get the token ID\n",
    "embedding = model.get_input_embeddings().weight[tokenizer.encode(\"</think>\", add_special_tokens=False)[0]]\n",
    "logits = model.lm_head(embedding.reshape(1, 1, -1))\n",
    "print_top_next_tokens(logits)"
   ]
  },
  {
   "cell_type": "markdown",
   "metadata": {},
   "source": [
    "Pega os logits do token `</think>` na última camada"
   ]
  },
  {
   "cell_type": "code",
   "execution_count": 72,
   "metadata": {},
   "outputs": [
    {
     "name": "stdout",
     "output_type": "stream",
     "text": [
      "Top 5 most likely tokens when decoding embedding):\n",
      "1. </think> (prob: 1.000, logit: 25.750)\n",
      "2. </ (prob: 0.000, logit: 15.953)\n",
      "3. Alternatively (prob: 0.000, logit: 13.242)\n",
      "4.   \n",
      " (prob: 0.000, logit: 12.602)\n",
      "5. ####\n",
      " (prob: 0.000, logit: 12.523)\n",
      "\n",
      "Bottom 5 least likely tokens:\n",
      "1. \" (prob: 0.000, logit: 4.086)\n",
      "2. ! (prob: 0.000, logit: 1.679)\n",
      "3. # (prob: 0.000, logit: 7.598)\n",
      "4. % (prob: 0.000, logit: 3.184)\n",
      "5. $ (prob: 0.000, logit: 2.434)\n"
     ]
    }
   ],
   "source": [
    "text = \"\"\"<｜User｜>What is 15 multiplied by 7?<｜Assistant｜><think>\n",
    "To solve 15 multiplied by 7, I can start by multiplying 10 by 7, which equals 70. Then, I'll multiply 5 by 7, resulting in 35. Adding these two products together, 70 plus 35, gives me the final answer of 105.\n",
    "\"\"\"\n",
    "\n",
    "# Tokenize input text\n",
    "inputs = tokenizer(text, return_tensors=\"pt\").to(model.device)\n",
    "\n",
    "# Get model outputs\n",
    "with torch.no_grad():\n",
    "    outputs = model(**inputs, output_hidden_states=True)\n",
    "\n",
    "# Get logits from output\n",
    "logits1 = outputs.logits\n",
    "hidden_state = outputs.hidden_states[-1]\n",
    "print_top_next_tokens(logits1)"
   ]
  },
  {
   "cell_type": "code",
   "execution_count": 66,
   "metadata": {},
   "outputs": [
    {
     "name": "stdout",
     "output_type": "stream",
     "text": [
      "Cosine similarity between logits: 0.0848\n"
     ]
    }
   ],
   "source": [
    "# Calculate cosine similarity between logits and logits1\n",
    "cos_sim = torch.nn.functional.cosine_similarity(logits[0][-1].view(1,-1), logits1[0][-1].view(1,-1))\n",
    "print(f\"Cosine similarity between logits: {cos_sim.item():.4f}\")"
   ]
  },
  {
   "cell_type": "code",
   "execution_count": 76,
   "metadata": {},
   "outputs": [
    {
     "name": "stdout",
     "output_type": "stream",
     "text": [
      "Cosine similarity between embeddings: 0.0773\n"
     ]
    }
   ],
   "source": [
    "# Calculate cosine similarity between embeddings and the hidden state\n",
    "cos_sim = torch.nn.functional.cosine_similarity(embedding.view(1,-1), hidden_state[0][-1].view(1,-1))\n",
    "print(f\"Cosine similarity between embeddings: {cos_sim.item():.4f}\")"
   ]
  },
  {
   "cell_type": "markdown",
   "metadata": {},
   "source": [
    "## Função `generate` modificada"
   ]
  },
  {
   "cell_type": "markdown",
   "metadata": {},
   "source": [
    "Generate padrão (baseline)"
   ]
  },
  {
   "cell_type": "code",
   "execution_count": 3,
   "metadata": {},
   "outputs": [
    {
     "name": "stdout",
     "output_type": "stream",
     "text": [
      "\n",
      "Prompt: <｜begin▁of▁sentence｜><｜User｜>What is 15 multiplied by 7?<｜Assistant｜><think>\n",
      "\n",
      "To solve 15 multiplied by 7, I start by breaking down the number 15 into 10 and 5. Multiplying 10 by 7 gives me 70, and multiplying 5 by 7 results in 35. Finally, adding these two products together, 70 and 35, gives the final result of 105.\n",
      "</think>\n",
      "\n",
      "To find the product of 15 multiplied by 7, follow these simple steps:\n",
      "\n",
      "### Step 1: Break Down the Numbers\n",
      "Break down 15 into its tens and ones place:\n",
      "- 15 = 10 + 5\n",
      "\n",
      "### Step 2: Multiply Each Part by 7\n",
      "- Multiply the tens place: \\( 10 \\times 7 = 70 \\)\n",
      "- Multiply the ones place: \\( 5 \\times 7 = 35 \\)\n",
      "\n",
      "### Step 3: Add the Results Together\n",
      "- Add the two products: \\( 70 + 35 = 105 \\)\n",
      "\n",
      "### Final Answer\n",
      "\\[\n",
      "\\boxed{105}\n",
      "\\]<｜end▁of▁sentence｜>"
     ]
    }
   ],
   "source": [
    "def generate_text(model, tokenizer, prompt, max_length=500, temperature=0.6):\n",
    "    # Encode the prompt\n",
    "    input_ids = tokenizer(prompt, return_tensors=\"pt\").input_ids.to(model.device)\n",
    "    \n",
    "    # Get initial embeddings\n",
    "    with torch.no_grad():\n",
    "        inputs_embeds = model.model.embed_tokens(input_ids)\n",
    "        \n",
    "    # Keep track of generated tokens for decoding\n",
    "    generated_ids = input_ids.clone()\n",
    "    \n",
    "    # Generate tokens auto-regressively\n",
    "    for _ in range(max_length):\n",
    "        # Get model outputs using accumulated embeddings\n",
    "        with torch.no_grad():\n",
    "            outputs = model.model(inputs_embeds=inputs_embeds)\n",
    "            logits = model.lm_head(outputs[0])\n",
    "            \n",
    "        # Get logits for next token prediction\n",
    "        next_token_logits = logits[:, -1, :]\n",
    "        \n",
    "        # Apply temperature scaling\n",
    "        next_token_logits = next_token_logits / temperature\n",
    "        \n",
    "        # Get probabilities\n",
    "        probs = torch.nn.functional.softmax(next_token_logits, dim=-1)\n",
    "        \n",
    "        # Sample next token\n",
    "        next_token = torch.multinomial(probs, num_samples=1)\n",
    "        \n",
    "        # Print the generated token\n",
    "        print(tokenizer.decode(next_token[0]), end='', flush=True)\n",
    "        \n",
    "        # Get embedding for next token\n",
    "        with torch.no_grad():\n",
    "            next_embed = model.model.embed_tokens(next_token)\n",
    "            \n",
    "        # Concatenate next embed\n",
    "        inputs_embeds = torch.cat([inputs_embeds, next_embed], dim=1)\n",
    "        \n",
    "        # Update generated ids for final decoding\n",
    "        generated_ids = torch.cat([generated_ids, next_token], dim=1)\n",
    "        \n",
    "        # Check if EOS token is generated\n",
    "        if next_token[0].item() == tokenizer.eos_token_id:\n",
    "            break\n",
    "    \n",
    "    # Decode the generated tokens\n",
    "    generated_text = tokenizer.decode(generated_ids[0], skip_special_tokens=True)\n",
    "    return generated_text\n",
    "\n",
    "# Test the generation\n",
    "prompt = tokenizer.apply_chat_template(\n",
    "    [{\"role\": \"user\", \"content\": \"What is 15 multiplied by 7?\"}],\n",
    "    add_generation_prompt=True,\n",
    "    tokenize=False\n",
    ")\n",
    "print(f\"\\nPrompt: {prompt}\")\n",
    "generated = generate_text(model, tokenizer, prompt, temperature=0.6)"
   ]
  },
  {
   "cell_type": "markdown",
   "metadata": {},
   "source": [
    "Generate utilizando o espaço latente dentro dos tokens `<think/>`\n"
   ]
  },
  {
   "cell_type": "code",
   "execution_count": 12,
   "metadata": {},
   "outputs": [
    {
     "name": "stdout",
     "output_type": "stream",
     "text": [
      "<｜begin▁of▁sentence｜><｜User｜>What is 15 multiplied by 7?<｜Assistant｜><think>\n",
      "torch.Size([1, 16])\n",
      "torch.Size([1, 1])\n",
      "<latent>\n",
      "\n",
      "\n",
      "\n",
      "\n",
      "\n",
      "\n",
      "\n",
      "\n",
      "\n",
      "的的的的的。。\n",
      "\n",
      "\n",
      "\n",
      "\n",
      "\n",
      "\n",
      "。。。。。。。！！！！！！!!。。。。。技巧方法方法方法地解决算！了啦！！！！！！！！！！！！！！！！！！！！！！！！！！！！！！！！！！！！！！！！！！！！！！！！</latent>\n",
      "</latent>\n",
      "嗯，今天老师布置了一个数学题，让我算一下15乘以7是多少。刚开始看到这个题目的时候，我觉得挺简单的，但还是有点紧张，怕自己算错了。不过没关系，我慢慢来，仔细想一想。\n",
      "\n",
      "首先，我得回忆一下乘法的基本知识。乘法就是求几个相同数相加的总和，对吧？比如说，15乘以7，就是15加上自己6次，也就是15+15+15+15+15+15+15。嗯，这样算的话，我得算出这个总和是多少。\n",
      "\n",
      "不过，这样算起来可能有点麻烦，而且容易出错。我想，有没有什么简便的方法呢？比如说，分解因数或者找规律。比如说，15乘以7，我可以把15拆成10加5，然后分别乘以7，再把结果加起来。这样是不是更简单呢？\n",
      "\n",
      "好，我来试试看。首先，10乘以7等于70，然后5乘以7等于35。接下来，我把这两个结果加起来，70加35等于105。所以，15乘以7的结果应该是105。\n",
      "\n",
      "不过，我还是有点担心自己是不是哪里算错了。为了确认一下，我可以换一种方法来验证一下。比如说，我可以使用竖式乘法来计算。先把15写下来，然后乘以7，从个位开始乘起。\n",
      "\n",
      "首先，5乘以7等于35，写下5，进位3。然后，1乘以7等于7，加上进位的3，等于10。所以，结果就是105。嗯，和之前的结果一致，看来是对的。\n",
      "\n",
      "或者，我可以使用分配律来计算。比如说，15乘以7等于（10+5）乘以7，也就是10乘以7加上5乘以7，结果也是70加35等于105。这样看来，不管用什么方法，结果都是105，所以应该是正确的。\n",
      "\n",
      "不过，我还是有点好奇，有没有其他的方法可以用来验证这个结果。比如说，我可以使用计算器来计算，或者用其他数学技巧来确认。不过，现在手头没有计算器，只能依靠自己的计算能力了。\n",
      "\n",
      "再想想，15乘以7其实可以看作是15乘以7等于105，对吗？因为15乘以7等于105，所以这个结果是对的。嗯，看来我的计算是正确的，没有问题。\n",
      "\n",
      "总结一下，15乘以7等于105，这个结果可以通过多种方法验证，包括分解因数、竖式计算、分配律等，都得到了同样的结果。所以，我确定这个答案是正确的。\n",
      "</think>\n",
      "\n",
      "15乘以7等于105。\n",
      "\n",
      "步骤解释：\n",
      "1. ��15分解为10和5。\n",
      "2. 分别计算10乘以7等于70，5乘以7等于35。\n",
      "3. ��70和35相加，得到105。\n",
      "\n",
      "所以，15 × 7 = 105。<｜end▁of▁sentence｜>"
     ]
    }
   ],
   "source": [
    "def generate_text_latent(model, tokenizer, prompt, max_length=1000, max_thinking_tokens=100):\n",
    "    # Encode the prompt\n",
    "    input_ids = tokenizer(prompt, return_tensors=\"pt\").input_ids.to(model.device)\n",
    "    \n",
    "    # Track latent state\n",
    "    # Scan input ids for think tags\n",
    "    thinking_tokens = max_thinking_tokens\n",
    "    think_start = tokenizer.encode(\"<think>\", add_special_tokens=False)[0]\n",
    "    think_end = tokenizer.encode(\"</think>\", add_special_tokens=False)[0]\n",
    "    think_count = 0\n",
    "    for token_id in input_ids[0]:\n",
    "        if token_id == think_start:\n",
    "            think_count += 1\n",
    "        elif token_id == think_end:\n",
    "            think_count -= 1\n",
    "    latent = think_count > 0  # True if there's an unclosed think tag\n",
    "    if latent:\n",
    "        print(input_ids.shape)\n",
    "        print(torch.tensor([[think_start]]).shape)\n",
    "        input_ids = torch.cat([input_ids, torch.tensor([[think_start]]).to(model.device)], dim=1)\n",
    "        print(\"<latent>\", end='', flush=True)\n",
    "    else:\n",
    "        input_ids = torch.cat([input_ids, torch.tensor([[think_end]]).to(model.device)], dim=1)\n",
    "        print(\"</latent>\", end='', flush=True)\n",
    "\n",
    "    # Keep track of generated tokens for decoding\n",
    "    generated_ids = input_ids.clone()\n",
    "\n",
    "    # Get initial embeddings\n",
    "    with torch.no_grad():\n",
    "        inputs_embeds = model.model.embed_tokens(input_ids)\n",
    "\n",
    "    # Generate tokens auto-regressively\n",
    "    for _ in range(max_length):\n",
    "        # Get model outputs using accumulated embeddings\n",
    "        with torch.no_grad():\n",
    "            outputs = model.model(inputs_embeds=inputs_embeds)\n",
    "            logits = model.lm_head(outputs[0])\n",
    "        next_token = torch.argmax(logits[:, -1, :], dim=-1, keepdim=True)\n",
    "\n",
    "        # Update latent state based on token\n",
    "        if latent:\n",
    "            thinking_tokens -= 1\n",
    "            if next_token[0].item() != think_end and thinking_tokens > 0:\n",
    "                # Still thinking\n",
    "                next_token_hidden = outputs[0][:, -1, :]\n",
    "                next_embed = next_token_hidden.unsqueeze(1)\n",
    "                # inputs_embeds = inputs_embeds[:, :-1, :]  # Uncomment this to replace the last token instead of appending it to the sequence\n",
    "            else:\n",
    "                # Exit latent space\n",
    "                latent = False\n",
    "                next_token = tokenizer(\"\\n</latent>\\n\", add_special_tokens=False, return_tensors=\"pt\").input_ids.to(model.device)\n",
    "                next_embed = model.model.embed_tokens(next_token)\n",
    "                print(\"</latent>\", end='', flush=True)\n",
    "                thinking_tokens = max_thinking_tokens\n",
    "        else:\n",
    "            if next_token[0] == think_start:\n",
    "                # Start thinking\n",
    "                latent = True\n",
    "                print(\"<latent>\", end='', flush=True)\n",
    "            with torch.no_grad():\n",
    "                next_embed = model.model.embed_tokens(next_token)\n",
    "\n",
    "        # Concatenate next embed\n",
    "        inputs_embeds = torch.cat([inputs_embeds, next_embed], dim=1)\n",
    "        # Update generated ids for final decoding\n",
    "        generated_ids = torch.cat([generated_ids, next_token], dim=1)\n",
    "        \n",
    "        # Print the generated token\n",
    "        print(tokenizer.decode(next_token[0]), end='', flush=True)\n",
    "\n",
    "        # Check if EOS token is generated\n",
    "        if tokenizer.eos_token_id in next_token[0]:\n",
    "            break\n",
    "\n",
    "    # Decode the generated tokens\n",
    "    generated_text = tokenizer.decode(generated_ids[0], skip_special_tokens=True)\n",
    "    return generated_text\n",
    "\n",
    "# Test the generation\n",
    "prompt = tokenizer.apply_chat_template(\n",
    "    [{\"role\": \"user\", \"content\": \"What is 15 multiplied by 7?\"}],\n",
    "    add_generation_prompt=True,\n",
    "    tokenize=False\n",
    ")\n",
    "print(prompt, end='', flush=True)\n",
    "generated = generate_text_latent(model, tokenizer, prompt, max_thinking_tokens=100)"
   ]
  },
  {
   "cell_type": "markdown",
   "metadata": {},
   "source": [
    "Mapas de atenção (até agora não funciona)"
   ]
  },
  {
   "cell_type": "code",
   "execution_count": null,
   "metadata": {},
   "outputs": [
    {
     "name": "stdout",
     "output_type": "stream",
     "text": [
      "<｜begin▁of▁sentence｜><｜User｜>What is 15 multiplied by 7?<｜Assistant｜><think>\n",
      "<latent>!!!!!"
     ]
    },
    {
     "name": "stdout",
     "output_type": "stream",
     "text": [
      "!!!!!!!!!!!!!!!!!!!!!!!!!!!!!!!!!!!!!!!!!!!!!!!!!!!!!!!!!!!!!!!!!!!!!!!!!!!!!!!!!!!!!!!!!!!!!!!"
     ]
    },
    {
     "name": "stderr",
     "output_type": "stream",
     "text": [
      "/home/bryan/miniconda3/envs/llm/lib/python3.9/site-packages/seaborn/matrix.py:202: RuntimeWarning: All-NaN slice encountered\n",
      "  vmin = np.nanmin(calc_data)\n",
      "/home/bryan/miniconda3/envs/llm/lib/python3.9/site-packages/seaborn/matrix.py:207: RuntimeWarning: All-NaN slice encountered\n",
      "  vmax = np.nanmax(calc_data)\n"
     ]
    },
    {
     "data": {
      "image/png": "[encoded data removed]",
      "text/plain": [
       "<Figure size 1200x800 with 2 Axes>"
      ]
     },
     "metadata": {},
     "output_type": "display_data"
    }
   ],
   "source": [
    "def generate_text_latent_with_attention(model, tokenizer, prompt, max_length=100, max_thinking_tokens=100):\n",
    "    # Encode the prompt\n",
    "    input_ids = tokenizer(prompt, return_tensors=\"pt\").input_ids.to(model.device)\n",
    "    \n",
    "    # Get initial embeddings\n",
    "    with torch.no_grad():\n",
    "        inputs_embeds = model.model.embed_tokens(input_ids)\n",
    "        \n",
    "    # Keep track of generated tokens for decoding\n",
    "    generated_ids = input_ids.clone()\n",
    "    \n",
    "    # Track latent state\n",
    "    # Scan input ids for think tags\n",
    "    think_start = tokenizer.encode(\"<think>\", add_special_tokens=False)[0]\n",
    "    think_end = tokenizer.encode(\"</think>\", add_special_tokens=False)[0]\n",
    "    think_count = 0\n",
    "    for token_id in input_ids[0]:\n",
    "        if token_id == think_start:\n",
    "            think_count += 1\n",
    "        elif token_id == think_end:\n",
    "            think_count -= 1\n",
    "    latent = think_count > 0  # True if there's an unclosed think tag\n",
    "    print(\"<latent>\" if latent else \"</latent>\", end='', flush=True)\n",
    "\n",
    "    thinking_tokens = max_thinking_tokens\n",
    "    all_attention_weights = []\n",
    "    all_tokens = []\n",
    "\n",
    "    # Generate tokens auto-regressively\n",
    "    for _ in range(max_length):\n",
    "        # Get model outputs using accumulated embeddings\n",
    "        with torch.no_grad():\n",
    "            outputs = model.model(inputs_embeds=inputs_embeds, output_attentions=True)  # modelo para de funcionar quando usa output_attentions\n",
    "            logits = model.lm_head(outputs[0])\n",
    "        next_token = torch.argmax(logits[:, -1, :], dim=-1, keepdim=True)\n",
    "\n",
    "        # Store attention weights from last layer\n",
    "        attention_weights = outputs.attentions[-1]  # Shape: [batch, num_heads, seq_len, seq_len]\n",
    "        all_attention_weights.append(attention_weights)\n",
    "\n",
    "        # Update latent state based on token\n",
    "        if latent:\n",
    "            thinking_tokens -= 1\n",
    "            if next_token[0].item() != think_end and thinking_tokens > 0:\n",
    "                next_token_hidden = outputs[0][:, -1, :]\n",
    "                next_embed = next_token_hidden.unsqueeze(1)\n",
    "            else:\n",
    "                latent = False\n",
    "                next_token = tokenizer(\"\\n</think>\\n\", add_special_tokens=False, return_tensors=\"pt\").input_ids.to(model.device)\n",
    "                next_embed = model.model.embed_tokens(next_token)\n",
    "                print(\"</latent>\", end='', flush=True)\n",
    "                thinking_tokens = max_thinking_tokens\n",
    "        else:\n",
    "            if next_token[0] == think_start:\n",
    "                latent = True\n",
    "                print(\"<latent>\", end='', flush=True)\n",
    "            with torch.no_grad():\n",
    "                next_embed = model.model.embed_tokens(next_token)\n",
    "\n",
    "        # Concatenate next embed\n",
    "        inputs_embeds = torch.cat([inputs_embeds, next_embed], dim=1)\n",
    "        # Update generated ids for final decoding\n",
    "        generated_ids = torch.cat([generated_ids, next_token], dim=1)\n",
    "        \n",
    "        # Print the generated token\n",
    "        print(tokenizer.decode(next_token[0]), end='', flush=True)\n",
    "\n",
    "        # Store generated token\n",
    "        all_tokens.append(tokenizer.decode(next_token[0]))\n",
    "\n",
    "        # Check if EOS token is generated\n",
    "        if tokenizer.eos_token_id in next_token[0]:\n",
    "            break\n",
    "        \n",
    "        \n",
    "    # Decode the generated tokens\n",
    "    generated_text = tokenizer.decode(generated_ids[0], skip_special_tokens=True)\n",
    "    \n",
    "    return generated_text, all_attention_weights, all_tokens\n",
    "\n",
    "def plot_attention_map(attention_weights, tokens, layer_idx=-1, head_idx=0):\n",
    "    \"\"\"\n",
    "    Plot attention map for a specific layer and attention head\n",
    "    \n",
    "    Args:\n",
    "        attention_weights: List of attention tensors\n",
    "        tokens: List of token strings\n",
    "        layer_idx: Which transformer layer to visualize (-1 for last layer)\n",
    "        head_idx: Which attention head to visualize\n",
    "    \"\"\"\n",
    "    # Convert attention weights to numpy array\n",
    "    # Get sequence length for each attention matrix\n",
    "    seq_lens = [w.size(-1) for w in attention_weights]\n",
    "    min_seq_len = min(seq_lens)\n",
    "    \n",
    "    # Truncate each attention matrix to minimum sequence length\n",
    "    attn_matrix = torch.cat([w[0, head_idx, -1:, :min_seq_len] for w in attention_weights], dim=0)\n",
    "    attn_matrix = attn_matrix.cpu().numpy()\n",
    "    \n",
    "    # Create figure\n",
    "    plt.figure(figsize=(12, 8))\n",
    "    sns.heatmap(\n",
    "        attn_matrix,\n",
    "        xticklabels=tokens[:min_seq_len],\n",
    "        yticklabels=tokens[-len(attn_matrix):],\n",
    "        cmap='viridis',\n",
    "        cbar_kws={'label': 'Attention Weight'}\n",
    "    )\n",
    "    \n",
    "    plt.title(f'Attention Map (Layer {layer_idx}, Head {head_idx})')\n",
    "    plt.xlabel('Input Tokens')\n",
    "    plt.ylabel('Output Tokens')\n",
    "    plt.xticks(rotation=45, ha='right')\n",
    "    plt.tight_layout()\n",
    "    plt.show()\n",
    "\n",
    "# Test the generation\n",
    "prompt = tokenizer.apply_chat_template(\n",
    "    [{\"role\": \"user\", \"content\": \"What is 15 multiplied by 7?\"}],\n",
    "    add_generation_prompt=True,\n",
    "    tokenize=False\n",
    ") # + \"Chinese Dangerous wishes</think>\"\n",
    "print(prompt, end='', flush=True)\n",
    "generated, attention_weights, tokens = generate_text_latent_with_attention(\n",
    "    model, tokenizer, prompt, max_thinking_tokens=10\n",
    ")\n",
    "\n",
    "# Plot attention map for the last layer, first head\n",
    "plot_attention_map(attention_weights, tokens)"
   ]
  },
  {
   "cell_type": "markdown",
   "metadata": {},
   "source": [
    "## Custom Model"
   ]
  },
  {
   "cell_type": "code",
   "execution_count": 5,
   "metadata": {},
   "outputs": [],
   "source": [
    "del model"
   ]
  },
  {
   "cell_type": "code",
   "execution_count": 5,
   "metadata": {},
   "outputs": [
    {
     "name": "stderr",
     "output_type": "stream",
     "text": [
      "The argument `trust_remote_code` is to be used with Auto classes. It has no effect here and is ignored.\n"
     ]
    },
    {
     "data": {
      "text/plain": [
       "Embedding(151667, 1536)"
      ]
     },
     "execution_count": 5,
     "metadata": {},
     "output_type": "execute_result"
    }
   ],
   "source": [
    "from models.custom_qwen.latent_modeling import LatentModelForCausalLM\n",
    "\n",
    "model = LatentModelForCausalLM.from_pretrained(\n",
    "    model_name,\n",
    "    torch_dtype=torch.bfloat16,\n",
    "    device_map=\"auto\",\n",
    "    trust_remote_code=True\n",
    ")\n",
    "tokenizer = transformers.AutoTokenizer.from_pretrained(\n",
    "    model_name,\n",
    "    trust_remote_code=True\n",
    ")\n",
    "tokenizer.pad_token = tokenizer.eos_token\n",
    "tokenizer.add_tokens(\"<latent>\")\n",
    "tokenizer.add_tokens(\"</latent>\")\n",
    "\n",
    "model.config.start_think_token_id = tokenizer.convert_tokens_to_ids(\"<think>\")\n",
    "model.config.end_think_token_id = tokenizer.convert_tokens_to_ids(\"</think>\")\n",
    "model.config.start_latent_token_id = tokenizer.convert_tokens_to_ids(\"<latent>\")\n",
    "model.config.end_latent_token_id = tokenizer.convert_tokens_to_ids(\"</latent>\")\n",
    "model.config.auto_map = {\n",
    "    \"AutoModelForCausalLM\": \"latent_modeling.LatentModelForCausalLM\",\n",
    "    \"AutoModel\": \"latent_modeling.LatentModelForCausalLM\"\n",
    "}\n",
    "model.config.head_dim = model.config.hidden_size // model.config.num_attention_heads\n",
    "model.resize_token_embeddings(len(tokenizer))"
   ]
  },
  {
   "cell_type": "code",
   "execution_count": 6,
   "metadata": {},
   "outputs": [
    {
     "data": {
      "text/plain": [
       "('custom_qwen/tokenizer_config.json',\n",
       " 'custom_qwen/special_tokens_map.json',\n",
       " 'custom_qwen/tokenizer.json')"
      ]
     },
     "execution_count": 6,
     "metadata": {},
     "output_type": "execute_result"
    }
   ],
   "source": [
    "output_dir = \"custom_qwen\"\n",
    "model.save_pretrained(output_dir)\n",
    "tokenizer.save_pretrained(output_dir)"
   ]
  },
  {
   "cell_type": "code",
   "execution_count": 6,
   "metadata": {},
   "outputs": [
    {
     "data": {
      "text/plain": [
       "LatentModelForCausalLM(\n",
       "  (model): Qwen2Model(\n",
       "    (embed_tokens): Embedding(151667, 1536)\n",
       "    (layers): ModuleList(\n",
       "      (0-27): 28 x Qwen2DecoderLayer(\n",
       "        (self_attn): Qwen2Attention(\n",
       "          (q_proj): Linear(in_features=1536, out_features=1536, bias=True)\n",
       "          (k_proj): Linear(in_features=1536, out_features=256, bias=True)\n",
       "          (v_proj): Linear(in_features=1536, out_features=256, bias=True)\n",
       "          (o_proj): Linear(in_features=1536, out_features=1536, bias=False)\n",
       "        )\n",
       "        (mlp): Qwen2MLP(\n",
       "          (gate_proj): Linear(in_features=1536, out_features=8960, bias=False)\n",
       "          (up_proj): Linear(in_features=1536, out_features=8960, bias=False)\n",
       "          (down_proj): Linear(in_features=8960, out_features=1536, bias=False)\n",
       "          (act_fn): SiLU()\n",
       "        )\n",
       "        (input_layernorm): Qwen2RMSNorm((1536,), eps=1e-06)\n",
       "        (post_attention_layernorm): Qwen2RMSNorm((1536,), eps=1e-06)\n",
       "      )\n",
       "    )\n",
       "    (norm): Qwen2RMSNorm((1536,), eps=1e-06)\n",
       "    (rotary_emb): Qwen2RotaryEmbedding()\n",
       "  )\n",
       "  (lm_head): Linear(in_features=1536, out_features=151667, bias=False)\n",
       ")"
      ]
     },
     "execution_count": 6,
     "metadata": {},
     "output_type": "execute_result"
    }
   ],
   "source": [
    "model = transformers.AutoModelForCausalLM.from_pretrained(\n",
    "    \"custom_qwen\",\n",
    "    torch_dtype=torch.bfloat16,\n",
    "    device_map=\"auto\",\n",
    "    trust_remote_code=True\n",
    ")\n",
    "tokenizer = transformers.AutoTokenizer.from_pretrained(\n",
    "    \"custom_qwen\",\n",
    "    trust_remote_code=True\n",
    ")\n",
    "model"
   ]
  },
  {
   "cell_type": "code",
   "execution_count": 8,
   "metadata": {},
   "outputs": [
    {
     "name": "stdout",
     "output_type": "stream",
     "text": [
      "Available arguments for model.generate:\n",
      "input_ids: None\n",
      "attention_mask: None\n",
      "max_length: 50\n",
      "num_return_sequences: 1\n",
      "temperature: 1.0\n",
      "top_k: 50\n",
      "top_p: 1.0\n",
      "repetition_penalty: 1.0\n",
      "max_thinking_tokens: 10\n",
      "kwargs: <class 'inspect._empty'>\n"
     ]
    }
   ],
   "source": [
    "# Get the signature of the generate method\n",
    "import inspect\n",
    "\n",
    "generate_signature = inspect.signature(model.generate)\n",
    "print(\"Available arguments for model.generate:\")\n",
    "for param_name, param in generate_signature.parameters.items():\n",
    "    print(f\"{param_name}: {param.default}\")"
   ]
  },
  {
   "cell_type": "code",
   "execution_count": 9,
   "metadata": {},
   "outputs": [
    {
     "name": "stdout",
     "output_type": "stream",
     "text": [
      "<｜User｜>What is 15 multiplied by 7?<｜Assistant｜><think>\n",
      "To100000</think>  here? No. Wait, number of birds per Moon. For more information, visit. How many Birds per Year? No. 551. I have a question.\n",
      "\n",
      "Alright, so I have\n"
     ]
    }
   ],
   "source": [
    "input_text = tokenizer.apply_chat_template(\n",
    "    [{\"role\": \"user\", \"content\": \"What is 15 multiplied by 7?\"}],\n",
    "    add_generation_prompt=True,\n",
    "    tokenize=False\n",
    ")\n",
    "input_ids = tokenizer.encode(input_text, return_tensors=\"pt\")\n",
    "\n",
    "generated_ids = model.generate(input_ids=input_ids.to(model.device))\n",
    "generated_text = tokenizer.decode(generated_ids[0], skip_special_tokens=True)\n",
    "\n",
    "print(generated_text)"
   ]
  },
  {
   "cell_type": "code",
   "execution_count": null,
   "metadata": {},
   "outputs": [],
   "source": [
    "# MODEL=deepseek-ai/DeepSeek-R1-Distill-Qwen-1.5B\n",
    "MODEL=\"../custom_qwen\"\n",
    "MODEL_ARGS=\"pretrained=$MODEL,dtype=bfloat16,max_model_length=32768,gpu_memory_utilisation=0.9\"\n",
    "OUTPUT_DIR=data/evals/$MODEL\n",
    "\n",
    "# MATH-500\n",
    "TASK=math_500\n",
    "lighteval vllm $MODEL_ARGS \"custom|$TASK|0|0\" \\\n",
    "    --custom-tasks src/open_r1/evaluate.py \\\n",
    "    --use-chat-template \\\n",
    "    --output-dir $OUTPUT_DIR"
   ]
  },
  {
   "cell_type": "code",
   "execution_count": 1,
   "metadata": {},
   "outputs": [
    {
     "name": "stdout",
     "output_type": "stream",
     "text": [
      "Alright, the user greeted me with \"Hello world.\" It sounds like they're just starting a conversation.\n",
      "\n",
      "I should respond in a friendly and open manner to set a positive tone.\n",
      "\n",
      "Maybe I can offer to help out with whatever they need.\n",
      "\n",
      "Keeping it simple and welcoming is probably the best approach.\n",
      "</think>\n",
      "\n",
      "Hello! It's great to have you here. How can I assist you today?\n"
     ]
    }
   ],
   "source": [
    "from openai import OpenAI\n",
    "\n",
    "# Create client pointing to local server\n",
    "client = OpenAI(\n",
    "    base_url=\"http://localhost:18080/v1\",\n",
    "    api_key=\"not-needed\" # The API key is not actually used but required\n",
    ")\n",
    "\n",
    "# Test with a simple completion\n",
    "response = client.chat.completions.create(\n",
    "    model=\"custom_qwen\",\n",
    "    messages=[\n",
    "        {\"role\": \"user\", \"content\": \"Hello world\"}\n",
    "    ]\n",
    ")\n",
    "\n",
    "print(response.choices[0].message.content) "
   ]
  }
 ],
 "metadata": {
  "kernelspec": {
   "display_name": "llm",
   "language": "python",
   "name": "python3"
  },
  "language_info": {
   "codemirror_mode": {
    "name": "ipython",
    "version": 3
   },
   "file_extension": ".py",
   "mimetype": "text/x-python",
   "name": "python",
   "nbconvert_exporter": "python",
   "pygments_lexer": "ipython3",
   "version": "3.10.16"
  }
 },
 "nbformat": 4,
 "nbformat_minor": 2
}
